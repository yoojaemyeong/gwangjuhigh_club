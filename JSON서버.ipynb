{
 "cells": [
  {
   "cell_type": "code",
   "execution_count": null,
   "id": "25dfd2bd-7298-44d2-96d4-d2535bb33488",
   "metadata": {},
   "outputs": [
    {
     "name": "stdout",
     "output_type": "stream",
     "text": [
      "0.0.0.0:12345 대기상태...\n",
      "Connected by ('168.131.49.99', 65185)\n",
      "Received data: {'name': '홍길동', 'message': 'Hello, JSON'}\n",
      "Connection with ('168.131.49.99', 65185) ended\n",
      "Connected by ('168.131.49.99', 65218)\n",
      "Received data: {'name': '아무개', 'message': '두번째 메시지'}\n",
      "Connection with ('168.131.49.99', 65218) ended\n"
     ]
    }
   ],
   "source": [
    "import socket\n",
    "import json\n",
    "\n",
    "def start_server(host='0.0.0.0', port=12345):\n",
    "    with socket.socket(socket.AF_INET, socket.SOCK_STREAM) as s:\n",
    "        s.bind((host, port))\n",
    "        s.listen()\n",
    "        print(f\"{host}:{port} 대기상태...\")\n",
    "\n",
    "        while True:  # 무한대기\n",
    "            conn, addr = s.accept()\n",
    "            with conn:\n",
    "                print(f\"Connected by {addr}\")\n",
    "                while True:\n",
    "                    data = conn.recv(1024)\n",
    "                    if not data:\n",
    "                        break  # 데이터가 없으면 클라이언트 연결 종료\n",
    "\n",
    "                    # JSON 데이터 수신\n",
    "                    received_json = json.loads(data.decode(\"utf-8\"))\n",
    "                    print(f\"Received data: {received_json}\")\n",
    "\n",
    "                    # JSON 형태로 응답메시지 전송\n",
    "                    response = {\"status\": \"success\", \"message\": \"Data received\"}     \n",
    "                    conn.sendall(json.dumps(response).encode(\"utf-8\"))\n",
    "\n",
    "            # 연결된 클라이언트 연결 종료\n",
    "            print(f\"Connection with {addr} ended\")\n",
    "\n",
    "if __name__ == \"__main__\":\n",
    "    start_server()"
   ]
  },
  {
   "cell_type": "code",
   "execution_count": null,
   "id": "ea741194-b67c-4d74-b8c4-a59f293feaef",
   "metadata": {},
   "outputs": [],
   "source": []
  }
 ],
 "metadata": {
  "kernelspec": {
   "display_name": "Python 3 (ipykernel)",
   "language": "python",
   "name": "python3"
  },
  "language_info": {
   "codemirror_mode": {
    "name": "ipython",
    "version": 3
   },
   "file_extension": ".py",
   "mimetype": "text/x-python",
   "name": "python",
   "nbconvert_exporter": "python",
   "pygments_lexer": "ipython3",
   "version": "3.9.2rc1"
  }
 },
 "nbformat": 4,
 "nbformat_minor": 5
}
