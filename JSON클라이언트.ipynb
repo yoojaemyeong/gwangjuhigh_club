{
 "cells": [
  {
   "cell_type": "code",
   "execution_count": 3,
   "id": "0eb7181e-c492-45dc-a54b-6f782609f72b",
   "metadata": {},
   "outputs": [
    {
     "name": "stdout",
     "output_type": "stream",
     "text": [
      "Received response: {\"status\": \"success\", \"message\": \"Data received\"}\n"
     ]
    }
   ],
   "source": [
    "import socket\n",
    "import json\n",
    "\n",
    "host = '168.131.49.99' #str\n",
    "port = 12345   #int\n",
    "\n",
    "def start_client(server_host=host, server_port=port):\n",
    "    with socket.socket(socket.AF_INET, socket.SOCK_STREAM) as s:\n",
    "        s.connect((server_host, server_port))\n",
    "\n",
    "        # JSON 데이터 전송\n",
    "        data_to_send = {\"name\": \"아무개\", \"message\": \"두번째 메시지\"}     \n",
    "        s.sendall(json.dumps(data_to_send).encode())\n",
    "\n",
    "        # 서버로부터 응답 수신\n",
    "        data = s.recv(1024)\n",
    "        print(f\"Received response: {data.decode()}\")\n",
    "\n",
    "if __name__ == \"__main__\":\n",
    "    start_client(host,port)"
   ]
  },
  {
   "cell_type": "code",
   "execution_count": null,
   "id": "928facc5-bd2e-4658-891c-23f5ed40c5a5",
   "metadata": {},
   "outputs": [],
   "source": []
  }
 ],
 "metadata": {
  "kernelspec": {
   "display_name": "Python 3 (ipykernel)",
   "language": "python",
   "name": "python3"
  },
  "language_info": {
   "codemirror_mode": {
    "name": "ipython",
    "version": 3
   },
   "file_extension": ".py",
   "mimetype": "text/x-python",
   "name": "python",
   "nbconvert_exporter": "python",
   "pygments_lexer": "ipython3",
   "version": "3.9.2rc1"
  }
 },
 "nbformat": 4,
 "nbformat_minor": 5
}
