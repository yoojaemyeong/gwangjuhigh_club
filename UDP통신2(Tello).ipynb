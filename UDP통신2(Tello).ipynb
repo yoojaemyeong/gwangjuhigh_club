{
 "cells": [
  {
   "cell_type": "markdown",
   "id": "fae20589-88fb-4eef-b23c-7ea43fa3d9d8",
   "metadata": {},
   "source": [
    "# UDP통신\n",
    "    \n",
    "1. socket 이란?\n",
    "   > IP와 포트를 활용 : 특정 포트에 연결되어 데이터를 보내거나 받고자 할 때  \n",
    "   > <font color='red'>서버</font> : 서비스 주체로 클라이언트로부터 메시지 받고 응답한다.  \n",
    "   > <font color='blue'>클라이언트</font> : 서비스 사용자  \n",
    "2. UDP서버와 클라이언트를 만들어 보자\n",
    "   \n",
    "   "
   ]
  },
  {
   "cell_type": "markdown",
   "id": "f00d4277-4f9e-48c4-8587-d582bcf15e5a",
   "metadata": {},
   "source": [
    "## 1. 사용중인 컴퓨터의 IP 확인"
   ]
  },
  {
   "cell_type": "code",
   "execution_count": null,
   "id": "8ef6876e-fe16-44e2-9129-c31319a18935",
   "metadata": {},
   "outputs": [],
   "source": [
    "!ipconfig "
   ]
  },
  {
   "cell_type": "markdown",
   "id": "a8e5cf90-4c61-40bf-83d9-062312f8ae36",
   "metadata": {},
   "source": [
    "## 2. UDP 서버\n",
    "1. 주소 체계(family)\n",
    "   > AF_INET : IPv4  \n",
    "   > AF_INET6 : IPv6\n",
    "2. 타입(type)\n",
    "   > SOCK_STREAM : TCP  \n",
    "   > SOCK_DGRAM : UDP"
   ]
  },
  {
   "cell_type": "code",
   "execution_count": null,
   "id": "785827e4-1ce7-4630-a8f1-d7ce36bca75a",
   "metadata": {},
   "outputs": [
    {
     "name": "stdout",
     "output_type": "stream",
     "text": [
      "■ Tello드론서버는 대기모드\n",
      "[notebook]: 반갑습니다. !!, IP: ('168.131.49.99', 60572)\n",
      "[tello send]에러 메시지:[WinError 10049] 요청한 주소는 해당 컨텍스트에서 유효하지 않습니다\n"
     ]
    }
   ],
   "source": [
    "#통신 모듈\n",
    "import socket\n",
    "import time\n",
    "import threading\n",
    "global gmsg  # main, thread 전역 변수\n",
    "global tellomsg # Tello 상태 정보\n",
    "global run_flag # thread 종료 변수\n",
    "\n",
    "#주소 설정\n",
    "tello_addr = ('0.0.0.0',38889) # Tello드론 38889\n",
    "notebook_addr = ('0.0.0.0',38890) # 노트북 38890\n",
    "\n",
    "# 메시지 송수신\n",
    "def send(message,delay):\n",
    "    try:\n",
    "        sock.sendto(message.encode(),notebook_addr) # Tello드론->노트북\n",
    "        print(\"보낸메시지:\" + message)\n",
    "    except Exception as e:\n",
    "        print(\"[tello send]에러 메시지:\" + str(e))\n",
    "    #지연\n",
    "    time.sleep(delay)        \n",
    "# notebook -> tello드론 메시지 받기(recvfrom)\n",
    "def receive():\n",
    "    global gmsg\n",
    "    global tellomsg\n",
    "    global run_flag\n",
    "    while run_flag:\n",
    "        try:\n",
    "            response, ip_addr = sock.recvfrom(1024) # 노트북 -> Tello드론                       \n",
    "            gmsg = \"[notebook]: %s, IP: %s\" % (response.decode(encoding='UTF-8'), str(ip_addr))            \n",
    "            print(gmsg)\n",
    "            # (Echo 서비스) tello정보 보내기 \n",
    "            send(\"[tello응답] %s ok\" % response.decode(encoding='UTF-8'),1)\n",
    "        except Exception as e:\n",
    "            print(\"[tello receive] 에러 메시지:\" + str(e))\n",
    "            break\n",
    "            \n",
    "# Tello드론(tello_addr) 통신포트 바인딩\n",
    "sock = socket.socket(socket.AF_INET, socket.SOCK_DGRAM)\n",
    "sock.bind(tello_addr)\n",
    "\n",
    "# 노트북으로부터 메시지 받기 쓰레드 생성 및 시작\n",
    "run_flag = True\n",
    "recvThread = threading.Thread(target=receive)\n",
    "recvThread.daemon = True\n",
    "recvThread.start()            \n",
    "\n",
    "# 통신 시작\n",
    "while True:\n",
    "    try:\n",
    "        print('■ Tello드론서버는 대기모드')\n",
    "        message = input()\n",
    "        if 'quit' in message:\n",
    "            print('프로그램 종료')\n",
    "            run_flag = False\n",
    "            recvThread.join()\n",
    "            sock.close()\n",
    "            break        \n",
    "        else:\n",
    "            send(gmsg,3)\n",
    "    except KeyboardInterrupt as e:\n",
    "        sock.close()\n",
    "        break"
   ]
  },
  {
   "cell_type": "code",
   "execution_count": null,
   "id": "430ed3dd-48bd-4732-826c-aed03c716ef5",
   "metadata": {},
   "outputs": [],
   "source": []
  }
 ],
 "metadata": {
  "kernelspec": {
   "display_name": "Python 3 (ipykernel)",
   "language": "python",
   "name": "python3"
  },
  "language_info": {
   "codemirror_mode": {
    "name": "ipython",
    "version": 3
   },
   "file_extension": ".py",
   "mimetype": "text/x-python",
   "name": "python",
   "nbconvert_exporter": "python",
   "pygments_lexer": "ipython3",
   "version": "3.9.2rc1"
  }
 },
 "nbformat": 4,
 "nbformat_minor": 5
}
