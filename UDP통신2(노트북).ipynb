{
 "cells": [
  {
   "cell_type": "markdown",
   "id": "fae20589-88fb-4eef-b23c-7ea43fa3d9d8",
   "metadata": {},
   "source": [
    "# UDP통신\n",
    "    \n",
    "1. socket 이란?\n",
    "   > IP와 포트를 활용 : 특정 포트에 연결되어 데이터를 보내거나 받고자 할 때  \n",
    "   > <font color='red'>서버</font> : 서비스 주체로 클라이언트로부터 메시지 받고 응답한다.  \n",
    "   > <font color='blue'>클라이언트</font> : 서비스 사용자  \n",
    "2. UDP서버와 클라이언트를 만들어 보자\n",
    "   \n",
    "   "
   ]
  },
  {
   "cell_type": "markdown",
   "id": "f00d4277-4f9e-48c4-8587-d582bcf15e5a",
   "metadata": {},
   "source": [
    "## 1. 사용중인 컴퓨터의 IP 확인"
   ]
  },
  {
   "cell_type": "code",
   "execution_count": null,
   "id": "8ef6876e-fe16-44e2-9129-c31319a18935",
   "metadata": {},
   "outputs": [],
   "source": [
    "!ipconfig "
   ]
  },
  {
   "cell_type": "markdown",
   "id": "a8e5cf90-4c61-40bf-83d9-062312f8ae36",
   "metadata": {},
   "source": [
    "## 2. UDP 클라이언트\n",
    "1. 주소 체계(family)\n",
    "   > AF_INET : IPv4  \n",
    "   > AF_INET6 : IPv6\n",
    "2. 타입(type)\n",
    "   > SOCK_STREAM : TCP  \n",
    "   > SOCK_DGRAM : UDP"
   ]
  },
  {
   "cell_type": "code",
   "execution_count": null,
   "id": "dd990e79-f58d-4c72-baf1-eba0b6d684a5",
   "metadata": {},
   "outputs": [
    {
     "name": "stdout",
     "output_type": "stream",
     "text": [
      "###############################\n",
      ":: 명령어입력: command -> takeoff -> land :: 프로그램 종료: quit\n",
      "###############################\n",
      "\n"
     ]
    },
    {
     "name": "stdin",
     "output_type": "stream",
     "text": [
      " command\n"
     ]
    },
    {
     "name": "stdout",
     "output_type": "stream",
     "text": [
      "[tello]: [tello응답] command ok, IP: ('127.0.0.1', 38889)\n",
      "[notebook]메시지:command\n",
      "###############################\n",
      ":: 명령어입력: command -> takeoff -> land :: 프로그램 종료: quit\n",
      "###############################\n",
      "\n"
     ]
    },
    {
     "name": "stdin",
     "output_type": "stream",
     "text": [
      " takeoff\n"
     ]
    },
    {
     "name": "stdout",
     "output_type": "stream",
     "text": [
      "[tello]: [tello응답] takeoff ok, IP: ('127.0.0.1', 38889)\n",
      "[notebook]메시지:takeoff\n",
      "###############################\n",
      ":: 명령어입력: command -> takeoff -> land :: 프로그램 종료: quit\n",
      "###############################\n",
      "\n"
     ]
    },
    {
     "name": "stdin",
     "output_type": "stream",
     "text": [
      " quit\n"
     ]
    },
    {
     "name": "stdout",
     "output_type": "stream",
     "text": [
      "프로그램 종료\n"
     ]
    }
   ],
   "source": [
    "#통신 모듈\n",
    "import socket\n",
    "import time\n",
    "import threading\n",
    "global gmsg  # main, thread 전역 변수\n",
    "global tellomsg # Tello 상태 정보\n",
    "global run_flag # thread 종료 변수\n",
    "#주소 설정\n",
    "tello_addr = ('0.0.0.0',38889) # Tello드론 38889\n",
    "notebook_addr = ('0.0.0.0',38890) # 노트북 38890\n",
    "\n",
    "# 메시지 송수신\n",
    "def send(message,delay):\n",
    "    try:\n",
    "        sock.sendto(message.encode(),tello_addr)\n",
    "        print(\"[notebook]메시지:\" + message)\n",
    "    except Exception as e:\n",
    "        print(\"local 에러 메시지:\" + str(e))\n",
    "    #지연\n",
    "    time.sleep(delay)        \n",
    "# tello -> notebook 메시지 받기(recvfrom)\n",
    "def receive():\n",
    "    global gmsg\n",
    "    global tellomsg\n",
    "    global run_flag\n",
    "    while run_flag:\n",
    "        try:\n",
    "            response, ip_addr = sock.recvfrom(1024)            \n",
    "            gmsg = \"[tello]: %s, IP: %s\" % (response.decode(encoding='UTF-8'), str(ip_addr))            \n",
    "            print(gmsg)            \n",
    "        except Exception as e:\n",
    "            print(\"local receive 에러 메시지:\" + str(e))\n",
    "            break\n",
    "            \n",
    "# 로컬(notebook) 통신포트 바인딩\n",
    "sock = socket.socket(socket.AF_INET, socket.SOCK_DGRAM)\n",
    "sock.bind(notebook_addr)\n",
    "\n",
    "# 노트북으로부터 메시지 받기 쓰레드 생성 및 시작\n",
    "run_flag = True\n",
    "recvThread = threading.Thread(target=receive)\n",
    "recvThread.daemon = True\n",
    "recvThread.start()            \n",
    "\n",
    "# 통신 시작\n",
    "while True:\n",
    "    try:\n",
    "        print('■ 명령어입력: command->takeoff->land')\n",
    "        message = input()\n",
    "        if 'quit' in message:\n",
    "            print('프로그램 종료')\n",
    "            run_flag = False\n",
    "            recvThread.join()\n",
    "            sock.close()\n",
    "            break\n",
    "        else:\n",
    "            send(message,1)\n",
    "    except KeyboardInterrupt as e:\n",
    "        run_flag = False\n",
    "        recvThread.join()\n",
    "        sock.close()\n",
    "        break"
   ]
  },
  {
   "cell_type": "code",
   "execution_count": null,
   "id": "eace63cd-1f9d-44c7-8358-23afacb37f36",
   "metadata": {},
   "outputs": [],
   "source": []
  },
  {
   "cell_type": "code",
   "execution_count": null,
   "id": "9108a67b-534c-47bb-8684-77b4bdac622d",
   "metadata": {},
   "outputs": [],
   "source": []
  }
 ],
 "metadata": {
  "kernelspec": {
   "display_name": "Python 3 (ipykernel)",
   "language": "python",
   "name": "python3"
  },
  "language_info": {
   "codemirror_mode": {
    "name": "ipython",
    "version": 3
   },
   "file_extension": ".py",
   "mimetype": "text/x-python",
   "name": "python",
   "nbconvert_exporter": "python",
   "pygments_lexer": "ipython3",
   "version": "3.9.2rc1"
  }
 },
 "nbformat": 4,
 "nbformat_minor": 5
}
