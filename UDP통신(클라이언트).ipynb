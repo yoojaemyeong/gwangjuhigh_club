{
 "cells": [
  {
   "cell_type": "markdown",
   "id": "fae20589-88fb-4eef-b23c-7ea43fa3d9d8",
   "metadata": {},
   "source": [
    "# UDP통신\n",
    "    \n",
    "1. socket 이란?\n",
    "   > IP와 포트를 활용 : 특정 포트에 연결되어 데이터를 보내거나 받고자 할 때  \n",
    "   > <font color='red'>서버</font> : 서비스 주체로 클라이언트로부터 메시지 받고 응답한다.  \n",
    "   > <font color='blue'>클라이언트</font> : 서비스 사용자  \n",
    "2. UDP서버와 클라이언트를 만들어 보자\n",
    "   \n",
    "   "
   ]
  },
  {
   "cell_type": "markdown",
   "id": "f00d4277-4f9e-48c4-8587-d582bcf15e5a",
   "metadata": {},
   "source": [
    "## 1. 사용중인 컴퓨터의 IP 확인"
   ]
  },
  {
   "cell_type": "code",
   "execution_count": null,
   "id": "8ef6876e-fe16-44e2-9129-c31319a18935",
   "metadata": {},
   "outputs": [],
   "source": [
    "!ipconfig "
   ]
  },
  {
   "cell_type": "markdown",
   "id": "a8e5cf90-4c61-40bf-83d9-062312f8ae36",
   "metadata": {},
   "source": [
    "## 2. UDP 클라이언트\n",
    "1. 주소 체계(family)\n",
    "   > AF_INET : IPv4  \n",
    "   > AF_INET6 : IPv6\n",
    "2. 타입(type)\n",
    "   > SOCK_STREAM : TCP  \n",
    "   > SOCK_DGRAM : UDP"
   ]
  },
  {
   "cell_type": "code",
   "execution_count": 3,
   "id": "dd990e79-f58d-4c72-baf1-eba0b6d684a5",
   "metadata": {},
   "outputs": [
    {
     "name": "stdout",
     "output_type": "stream",
     "text": [
      "메시지 보내기\n",
      "보낸메시지:반갑습니다. !!\n",
      "클라이언트 프로그램 종료\n"
     ]
    }
   ],
   "source": [
    "#통신 모듈\n",
    "import socket\n",
    "#주소 설정\n",
    "server_ip = '168.131.49.99'\n",
    "server_port = 38889\n",
    "\n",
    "#udp클라이언트를 위한 소켓 구성\n",
    "client_sock = socket.socket(socket.AF_INET, socket.SOCK_DGRAM)      \n",
    "\n",
    "print('메시지 보내기')\n",
    "msg = '반갑습니다. !!'\n",
    "client_sock.sendto(msg.encode(),(server_ip,server_port))\n",
    "print('보낸메시지:'+msg)\n",
    "\n",
    "#통신 종료\n",
    "client_sock.close()\n",
    "print('클라이언트 프로그램 종료')"
   ]
  },
  {
   "cell_type": "code",
   "execution_count": null,
   "id": "eace63cd-1f9d-44c7-8358-23afacb37f36",
   "metadata": {},
   "outputs": [],
   "source": []
  }
 ],
 "metadata": {
  "kernelspec": {
   "display_name": "Python 3 (ipykernel)",
   "language": "python",
   "name": "python3"
  },
  "language_info": {
   "codemirror_mode": {
    "name": "ipython",
    "version": 3
   },
   "file_extension": ".py",
   "mimetype": "text/x-python",
   "name": "python",
   "nbconvert_exporter": "python",
   "pygments_lexer": "ipython3",
   "version": "3.9.2rc1"
  }
 },
 "nbformat": 4,
 "nbformat_minor": 5
}
