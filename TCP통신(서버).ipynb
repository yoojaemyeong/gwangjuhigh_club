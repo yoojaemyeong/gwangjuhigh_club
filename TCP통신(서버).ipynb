{
 "cells": [
  {
   "cell_type": "code",
   "execution_count": null,
   "id": "66068dd8-d01d-4174-b4e3-ea2ff6395e27",
   "metadata": {},
   "outputs": [
    {
     "name": "stdout",
     "output_type": "stream",
     "text": [
      "서버가 0.0.0.0:12345에서 대기 중입니다...\n",
      "클라이언트 ('168.131.49.99', 64349)가 연결되었습니다.\n",
      "클라이언트 이름: 유재명\n",
      "클라이언트 메시지: 안녕, 서버!\n",
      "연결종료\n",
      "클라이언트 ('168.131.49.99', 64350)가 연결되었습니다.\n",
      "클라이언트 이름: 수현\n",
      "클라이언트 메시지: 안녕, 서버!\n",
      "연결종료\n",
      "클라이언트 ('168.131.49.99', 64358)가 연결되었습니다.\n",
      "클라이언트 이름: 지인\n",
      "클라이언트 메시지: 안녕, 서버!\n",
      "연결종료\n"
     ]
    }
   ],
   "source": [
    "import socket\n",
    "# 1. TCP 통신(서버)\n",
    "host = \"0.0.0.0\"  # 서버의 IP 주소 또는 도메인 이름\n",
    "port = 12345       # 포트 번호\n",
    "server_socket = socket.socket(socket.AF_INET, socket.SOCK_STREAM)                \n",
    "server_socket.bind((host, port))\n",
    "server_socket.listen(5)\n",
    "print(f\"서버가 {host}:{port}에서 대기 중입니다...\")\n",
    "\n",
    "while True:\n",
    "    # 클라이언트 연결 대기\n",
    "    client_socket, client_address = server_socket.accept()\n",
    "    print(f\"클라이언트 {client_address}가 연결되었습니다.\")\n",
    "    \n",
    "    try:\n",
    "        # 클라이언트로부터 요청 받기\n",
    "        data = client_socket.recv(1024).decode(\"utf-8\")\n",
    "        if not data:\n",
    "            continue\n",
    "\n",
    "        # 요청 파싱\n",
    "        parts = data.split(\"&&\")\n",
    "        if len(parts) != 0:\n",
    "            name = parts[0]\n",
    "            message = parts[1]\n",
    "            response = f\"어서와! {name}\"\n",
    "\n",
    "            # 클라이언트 이름과 메시지 출력\n",
    "            print(f\"클라이언트 이름: {name}\")\n",
    "            print(f\"클라이언트 메시지: {message}\")\n",
    "        else:\n",
    "            response = \"유효하지 않은 요청\"\n",
    "\n",
    "        # 응답 클라이언트에게 전송\n",
    "        client_socket.send(response.encode(\"utf-8\"))\n",
    "\n",
    "    except Exception as e:\n",
    "        print(f\"오류 발생: {e}\")\n",
    "\n",
    "    finally:\n",
    "        # 클라이언트 소켓 닫기\n",
    "        print(\"연결종료\")\n",
    "        client_socket.close()"
   ]
  },
  {
   "cell_type": "code",
   "execution_count": null,
   "id": "72b5e859-096c-4f6b-8ba8-1fb9a8e06846",
   "metadata": {},
   "outputs": [],
   "source": []
  }
 ],
 "metadata": {
  "kernelspec": {
   "display_name": "Python 3 (ipykernel)",
   "language": "python",
   "name": "python3"
  },
  "language_info": {
   "codemirror_mode": {
    "name": "ipython",
    "version": 3
   },
   "file_extension": ".py",
   "mimetype": "text/x-python",
   "name": "python",
   "nbconvert_exporter": "python",
   "pygments_lexer": "ipython3",
   "version": "3.9.2rc1"
  }
 },
 "nbformat": 4,
 "nbformat_minor": 5
}
