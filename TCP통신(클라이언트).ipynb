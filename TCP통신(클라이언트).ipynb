{
 "cells": [
  {
   "cell_type": "code",
   "execution_count": 6,
   "id": "81fa0c91-f60a-44d4-8e98-ca3d0a6b3f47",
   "metadata": {},
   "outputs": [
    {
     "name": "stdout",
     "output_type": "stream",
     "text": [
      "지인 : 안녕, 서버!\n",
      "서버 : 어서와! 지인\n",
      "\n"
     ]
    }
   ],
   "source": [
    "import socket\n",
    "# TCP통신(클라이언트) 설정\n",
    "server_address = \"168.131.49.99\"  # 서버의 실제 IP 주소 또는 도메인 이름\n",
    "server_port = 12345         # 서버 포트 번호\n",
    "\n",
    "# 서버에 연결\n",
    "client_socket = socket.socket(socket.AF_INET, socket.SOCK_STREAM)       \n",
    "client_socket.connect((server_address, server_port))\n",
    "\n",
    "# 데이터 전송\n",
    "name = \"지인\"\n",
    "message = \"안녕, 서버!\"\n",
    "\n",
    "request = f\"{name}&&{message}\"\n",
    "client_socket.send(request.encode(\"utf-8\"))\n",
    "\n",
    "# 서버로부터 응답 받기\n",
    "response = client_socket.recv(1024).decode(\"utf-8\")\n",
    "print(f\"{name} : {message}\")\n",
    "print(f\"서버 : {response}\\n\")\n",
    "\n",
    "# 클라이언트 소켓 닫기\n",
    "client_socket.close()"
   ]
  },
  {
   "cell_type": "code",
   "execution_count": null,
   "id": "f93beac8-31e6-46a2-944f-330d181c8d73",
   "metadata": {},
   "outputs": [],
   "source": []
  }
 ],
 "metadata": {
  "kernelspec": {
   "display_name": "Python 3 (ipykernel)",
   "language": "python",
   "name": "python3"
  },
  "language_info": {
   "codemirror_mode": {
    "name": "ipython",
    "version": 3
   },
   "file_extension": ".py",
   "mimetype": "text/x-python",
   "name": "python",
   "nbconvert_exporter": "python",
   "pygments_lexer": "ipython3",
   "version": "3.9.2rc1"
  }
 },
 "nbformat": 4,
 "nbformat_minor": 5
}
