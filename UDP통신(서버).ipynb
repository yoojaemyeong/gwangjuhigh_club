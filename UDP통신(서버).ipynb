{
 "cells": [
  {
   "cell_type": "markdown",
   "id": "fae20589-88fb-4eef-b23c-7ea43fa3d9d8",
   "metadata": {},
   "source": [
    "# UDP통신\n",
    "    \n",
    "1. socket 이란?\n",
    "   > IP와 포트를 활용 : 특정 포트에 연결되어 데이터를 보내거나 받고자 할 때  \n",
    "   > <font color='red'>서버</font> : 서비스 주체로 클라이언트로부터 메시지 받고 응답한다.  \n",
    "   > <font color='blue'>클라이언트</font> : 서비스 사용자  \n",
    "2. UDP서버와 클라이언트를 만들어 보자\n",
    "   \n",
    "   "
   ]
  },
  {
   "cell_type": "markdown",
   "id": "f00d4277-4f9e-48c4-8587-d582bcf15e5a",
   "metadata": {},
   "source": [
    "## 1. 사용중인 컴퓨터의 IP 확인"
   ]
  },
  {
   "cell_type": "code",
   "execution_count": 2,
   "id": "8ef6876e-fe16-44e2-9129-c31319a18935",
   "metadata": {},
   "outputs": [
    {
     "name": "stdout",
     "output_type": "stream",
     "text": [
      "\n",
      "Windows IP 구성\n",
      "\n",
      "\n",
      "이더넷 어댑터 이더넷 2:\n",
      "\n",
      "   연결별 DNS 접미사. . . . : \n",
      "   링크-로컬 IPv6 주소 . . . . : fe80::ae90:1ef8:65fe:2e07%19\n",
      "   IPv4 주소 . . . . . . . . . : 192.168.56.1\n",
      "   서브넷 마스크 . . . . . . . : 255.255.255.0\n",
      "   기본 게이트웨이 . . . . . . : \n",
      "\n",
      "이더넷 어댑터 이더넷 3:\n",
      "\n",
      "   연결별 DNS 접미사. . . . : \n",
      "   링크-로컬 IPv6 주소 . . . . : fe80::bc5f:d93d:56ad:6c99%20\n",
      "   IPv4 주소 . . . . . . . . . : 192.168.3.1\n",
      "   서브넷 마스크 . . . . . . . : 255.255.255.0\n",
      "   기본 게이트웨이 . . . . . . : \n",
      "\n",
      "이더넷 어댑터 이더넷 4:\n",
      "\n",
      "   연결별 DNS 접미사. . . . : \n",
      "   링크-로컬 IPv6 주소 . . . . : fe80::de3c:fd1e:ddbb:8a53%14\n",
      "   IPv4 주소 . . . . . . . . . : 192.168.5.1\n",
      "   서브넷 마스크 . . . . . . . : 255.255.255.0\n",
      "   기본 게이트웨이 . . . . . . : \n",
      "\n",
      "이더넷 어댑터 이더넷 5:\n",
      "\n",
      "   연결별 DNS 접미사. . . . : \n",
      "   링크-로컬 IPv6 주소 . . . . : fe80::bc44:e569:15f:1458%16\n",
      "   IPv4 주소 . . . . . . . . . : 192.168.22.1\n",
      "   서브넷 마스크 . . . . . . . : 255.255.255.0\n",
      "   기본 게이트웨이 . . . . . . : \n",
      "\n",
      "이더넷 어댑터 이더넷 6:\n",
      "\n",
      "   연결별 DNS 접미사. . . . : \n",
      "   링크-로컬 IPv6 주소 . . . . : fe80::abad:33c7:1ec4:6526%4\n",
      "   IPv4 주소 . . . . . . . . . : 192.168.7.1\n",
      "   서브넷 마스크 . . . . . . . : 255.255.255.0\n",
      "   기본 게이트웨이 . . . . . . : \n",
      "\n",
      "이더넷 어댑터 이더넷:\n",
      "\n",
      "   연결별 DNS 접미사. . . . : \n",
      "   링크-로컬 IPv6 주소 . . . . : fe80::a178:8626:4112:7d0e%8\n",
      "   IPv4 주소 . . . . . . . . . : 168.131.49.99\n",
      "   서브넷 마스크 . . . . . . . : 255.255.255.0\n",
      "   기본 게이트웨이 . . . . . . : 168.131.49.1\n",
      "\n",
      "이더넷 어댑터 Bluetooth 네트워크 연결:\n",
      "\n",
      "   미디어 상태 . . . . . . . . : 미디어 연결 끊김\n",
      "   연결별 DNS 접미사. . . . : \n"
     ]
    }
   ],
   "source": [
    "!ipconfig                                                                                    "
   ]
  },
  {
   "cell_type": "markdown",
   "id": "a8e5cf90-4c61-40bf-83d9-062312f8ae36",
   "metadata": {},
   "source": [
    "## 2. UDP 서버\n",
    "1. 주소 체계(family)\n",
    "   > AF_INET : IPv4  \n",
    "   > AF_INET6 : IPv6\n",
    "2. 타입(type)\n",
    "   > SOCK_STREAM : TCP  \n",
    "   > SOCK_DGRAM : UDP"
   ]
  },
  {
   "cell_type": "code",
   "execution_count": 3,
   "id": "785827e4-1ce7-4630-a8f1-d7ce36bca75a",
   "metadata": {},
   "outputs": [
    {
     "name": "stdout",
     "output_type": "stream",
     "text": [
      "데이터 수신 대기\n",
      "받은메시지:반갑습니다. !!, IP:('168.131.49.99', 60963)\n",
      "서버 프로그램 종료\n"
     ]
    }
   ],
   "source": [
    "#통신 모듈\n",
    "import socket\n",
    "#주소 설정\n",
    "local_addr = ('0.0.0.0',60080)\n",
    "#udp서버 구성\n",
    "server_sock = socket.socket(socket.AF_INET, socket.SOCK_DGRAM)\n",
    "server_sock.bind(local_addr) # socket 주소 정보 할당\n",
    "\n",
    "print('데이터 수신 대기')\n",
    "data, address = server_sock.recvfrom(1024)\n",
    "print('받은메시지:'+data.decode(encoding='utf-8')+\", IP:\"+str(address));                     \n",
    "\n",
    "#통신 종료\n",
    "server_sock.close()\n",
    "print('서버 프로그램 종료')"
   ]
  }
 ],
 "metadata": {
  "kernelspec": {
   "display_name": "Python 3 (ipykernel)",
   "language": "python",
   "name": "python3"
  },
  "language_info": {
   "codemirror_mode": {
    "name": "ipython",
    "version": 3
   },
   "file_extension": ".py",
   "mimetype": "text/x-python",
   "name": "python",
   "nbconvert_exporter": "python",
   "pygments_lexer": "ipython3",
   "version": "3.9.2rc1"
  }
 },
 "nbformat": 4,
 "nbformat_minor": 5
}
