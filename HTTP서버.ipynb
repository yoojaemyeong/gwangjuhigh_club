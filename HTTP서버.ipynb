{
 "cells": [
  {
   "cell_type": "code",
   "execution_count": null,
   "id": "21645a78-56ab-4060-b2b6-4e74781b088b",
   "metadata": {},
   "outputs": [
    {
     "name": "stdout",
     "output_type": "stream",
     "text": [
      "client request msg:  b'GET / HTTP/1.1\\r\\nHost: 168.131.49.99:10000\\r\\nConnection: keep-alive\\r\\nCache-Control: max-age=0\\r\\nUpgrade-Insecure-Requests: 1\\r\\nUser-Agent: Mozilla/5.0 (Windows NT 10.0; Win64; x64) AppleWebKit/537.36 (KHTML, like Gecko) Chrome/127.0.0.0 Safari/537.36\\r\\nAccept: text/html,application/xhtml+xml,application/xml;q=0.9,image/avif,image/webp,image/apng,*/*;q=0.8,application/signed-exchange;v=b3;q=0.7\\r\\nAccept-Encoding: gzip, deflate\\r\\nAccept-Language: ko-KR,ko;q=0.9,en-US;q=0.8,en;q=0.7\\r\\n\\r\\n'\n"
     ]
    }
   ],
   "source": [
    "#HTTP서버\n",
    "import socket\n",
    "\n",
    "class simple_server:\n",
    "    def __init__(self):\n",
    "        self.bufsize = 1024\n",
    "        self.counter = 0\n",
    "    def run(self,ip,port):\n",
    "        #소켓 생성\n",
    "        self.sock = socket.socket(socket.AF_INET,socket.SOCK_STREAM)\n",
    "        #소켓에 ip와 포트 정보를 bind\n",
    "        self.sock.bind((ip,port))\n",
    "        #클라이언트(5번 응답) 대기상태 설정\n",
    "        self.sock.listen(5)\n",
    "        \n",
    "        while self.counter < 5:                \n",
    "            #client의 request에 대해 client의 clnt_sock를 생성\n",
    "            clnt_sock,req_addr = self.sock.accept()\n",
    "\n",
    "            #clnt_sock에 적힌 정보를 read\n",
    "            req_message = clnt_sock.recv(self.bufsize)\n",
    "            print(\"client request msg: \", req_message)\n",
    "\n",
    "            res_message = '''HTTP/1.1 200 OK\n",
    "Server:simple web server\n",
    "Content-length:2048\n",
    "Content-type:text/html\n",
    "\n",
    "<html lang=ko><head><title>simple web server</title></head>\n",
    "<body><h1>Simple Web Server</h1><br>- Welcome to my simple web server<br>\n",
    "<img src=\"https://gwangju.gen.hs.kr:453/data_files/images/intro/intro01_pic.png\" />\n",
    "</body>     \n",
    "</html>\n",
    "'''.encode(\"utf-8\")\n",
    "\n",
    "            #clnt_sock를 통해서 client에 정보를 전송\n",
    "            clnt_sock.send(res_message)\n",
    "\n",
    "            #clnt_sock를 close\n",
    "            clnt_sock.close()\n",
    "            self.counter += 1\n",
    "\n",
    "        #sock를 close\n",
    "        print('close sock')\n",
    "        self.sock.close()\n",
    "\n",
    "\n",
    "server = simple_server()\n",
    "server.run(\"0.0.0.0\",10000)"
   ]
  },
  {
   "cell_type": "code",
   "execution_count": null,
   "id": "6e769f0b-5117-4cc5-959f-049d968f8d71",
   "metadata": {},
   "outputs": [],
   "source": []
  }
 ],
 "metadata": {
  "kernelspec": {
   "display_name": "Python 3 (ipykernel)",
   "language": "python",
   "name": "python3"
  },
  "language_info": {
   "codemirror_mode": {
    "name": "ipython",
    "version": 3
   },
   "file_extension": ".py",
   "mimetype": "text/x-python",
   "name": "python",
   "nbconvert_exporter": "python",
   "pygments_lexer": "ipython3",
   "version": "3.9.2rc1"
  }
 },
 "nbformat": 4,
 "nbformat_minor": 5
}
