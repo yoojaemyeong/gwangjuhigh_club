{
 "cells": [
  {
   "cell_type": "markdown",
   "metadata": {},
   "source": [
    "# 데이터분석을 위한 중요 라이브러리 : numpy, pandas, matplotlib\n",
    "\n",
    "<span style=\"color:blue;font-size:20px;font-weight:bold;\">numpy</span>"
   ]
  },
  {
   "cell_type": "code",
   "execution_count": null,
   "metadata": {
    "ExecuteTime": {
     "end_time": "2018-08-25T10:16:48.668490Z",
     "start_time": "2018-08-25T10:16:48.566974Z"
    }
   },
   "outputs": [],
   "source": [
    "import numpy as np"
   ]
  },
  {
   "cell_type": "markdown",
   "metadata": {},
   "source": [
    "numpy에서는 array라는 배열로 계산을 수행합니다  \n",
    "여기에서는 [1, 2, 3, 4, 5]라는 요소를 가진 numpy의 배열 array를 준비합시다"
   ]
  },
  {
   "cell_type": "markdown",
   "metadata": {},
   "source": [
    "### 실습환경 준비\n",
    "> 주피터노트북에서 소수점이하 3자리로 제한  \n",
    "> %precision 3"
   ]
  },
  {
   "cell_type": "code",
   "execution_count": null,
   "metadata": {},
   "outputs": [],
   "source": [
    "1/3"
   ]
  },
  {
   "cell_type": "code",
   "execution_count": null,
   "metadata": {},
   "outputs": [],
   "source": [
    "%precision 3\n",
    "1/3"
   ]
  },
  {
   "cell_type": "code",
   "execution_count": null,
   "metadata": {
    "ExecuteTime": {
     "end_time": "2018-08-25T10:16:48.671603Z",
     "start_time": "2018-08-25T10:16:48.669527Z"
    }
   },
   "outputs": [],
   "source": [
    "arr = np.array([1, 2, 3, 4, 5])"
   ]
  },
  {
   "cell_type": "markdown",
   "metadata": {},
   "source": [
    "<b>크기</b>는 <b>shape</b>로 알 수 있습니다"
   ]
  },
  {
   "cell_type": "code",
   "execution_count": null,
   "metadata": {
    "ExecuteTime": {
     "end_time": "2018-08-25T10:16:48.680356Z",
     "start_time": "2018-08-25T10:16:48.672775Z"
    }
   },
   "outputs": [],
   "source": [
    "arr.shape                       "
   ]
  },
  {
   "cell_type": "markdown",
   "metadata": {},
   "source": [
    "array에 대한 덧셈 연산을 해 봅시다"
   ]
  },
  {
   "cell_type": "code",
   "execution_count": null,
   "metadata": {
    "ExecuteTime": {
     "end_time": "2018-08-25T10:16:48.685235Z",
     "start_time": "2018-08-25T10:16:48.681590Z"
    }
   },
   "outputs": [],
   "source": [
    "arr + 2                                 "
   ]
  },
  {
   "cell_type": "markdown",
   "metadata": {},
   "source": [
    "모든 요소에 2를 더했습니다  \n",
    "이것을 <b>브로드캐스트</b>라고 합니다"
   ]
  },
  {
   "cell_type": "markdown",
   "metadata": {},
   "source": [
    "덧셈 연산만이 아닌, 다른 연산자도 동일하게 방식으로 수행합니다  \n",
    "제곱근을 취해 봅시다"
   ]
  },
  {
   "cell_type": "code",
   "execution_count": null,
   "metadata": {
    "ExecuteTime": {
     "end_time": "2018-08-25T10:16:48.688995Z",
     "start_time": "2018-08-25T10:16:48.686242Z"
    }
   },
   "outputs": [],
   "source": [
    "np.sqrt(arr)                                                                    "
   ]
  },
  {
   "cell_type": "markdown",
   "metadata": {},
   "source": [
    "리스트와 마찬가지로 슬라이스로 요소를 추출할 수 있습니다  "
   ]
  },
  {
   "cell_type": "code",
   "execution_count": null,
   "metadata": {
    "ExecuteTime": {
     "end_time": "2018-08-25T10:16:48.693379Z",
     "start_time": "2018-08-25T10:16:48.689963Z"
    }
   },
   "outputs": [],
   "source": [
    "print(arr)\n",
    "print('-----')                                                             \n",
    "arr[:2]"
   ]
  },
  {
   "cell_type": "code",
   "execution_count": null,
   "metadata": {
    "ExecuteTime": {
     "end_time": "2018-08-25T10:16:48.697185Z",
     "start_time": "2018-08-25T10:16:48.694541Z"
    }
   },
   "outputs": [],
   "source": [
    "arr[3:5]"
   ]
  },
  {
   "cell_type": "markdown",
   "metadata": {},
   "source": [
    "numpy의 arange 함수가 자주 사용됩니다  \n",
    "arange 함수를 사용하여 [0, 1, 2, 3, 4]라는 요소를 가진 array를 간단히 작성할 수 있습니다"
   ]
  },
  {
   "cell_type": "code",
   "execution_count": null,
   "metadata": {
    "ExecuteTime": {
     "end_time": "2018-08-25T10:16:48.701069Z",
     "start_time": "2018-08-25T10:16:48.698168Z"
    }
   },
   "outputs": [],
   "source": [
    "np.arange(5)                 "
   ]
  },
  {
   "cell_type": "markdown",
   "metadata": {},
   "source": [
    "arange 함수에는 <b>start, end, step</b>을 지정할 수 있습니다  \n",
    "[2, 4, 6, 8]이라고 2씩 숫자가 증가하는 array는 다음과 같이 작성할 수 있습니다"
   ]
  },
  {
   "cell_type": "code",
   "execution_count": null,
   "metadata": {
    "ExecuteTime": {
     "end_time": "2018-08-25T10:16:48.704800Z",
     "start_time": "2018-08-25T10:16:48.702121Z"
    }
   },
   "outputs": [],
   "source": [
    "np.arange(2, 10, 2)"
   ]
  },
  {
   "cell_type": "markdown",
   "metadata": {},
   "source": [
    "linspace 함수도 자주 사용합니다  \n",
    "linspace 함수도 start부터 end까지의 array를 생성하는 함수이지만, step이 아닌 요소의 수를 지정합니다  \n",
    "여기에서는 <b> 0부터 3까지 <font color=red>11 분할</font>한 array</b>를 만들어 봅시다"
   ]
  },
  {
   "cell_type": "code",
   "execution_count": null,
   "metadata": {
    "ExecuteTime": {
     "end_time": "2018-08-25T10:16:48.709763Z",
     "start_time": "2018-08-25T10:16:48.705735Z"
    }
   },
   "outputs": [],
   "source": [
    "np.linspace(0, 3, 11)                                                    "
   ]
  },
  {
   "cell_type": "markdown",
   "metadata": {},
   "source": [
    "2차원 array도 간단히 생성합니다"
   ]
  },
  {
   "cell_type": "code",
   "execution_count": null,
   "metadata": {
    "ExecuteTime": {
     "end_time": "2018-08-25T10:16:48.713971Z",
     "start_time": "2018-08-25T10:16:48.710915Z"
    }
   },
   "outputs": [],
   "source": [
    "arr2 = np.array([[1, 3],\n",
    "                 [5, 7]])                                          \n",
    "arr2"
   ]
  },
  {
   "cell_type": "code",
   "execution_count": null,
   "metadata": {
    "ExecuteTime": {
     "end_time": "2018-08-25T10:16:48.717982Z",
     "start_time": "2018-08-25T10:16:48.714930Z"
    }
   },
   "outputs": [],
   "source": [
    "arr2.shape"
   ]
  },
  {
   "cell_type": "markdown",
   "metadata": {},
   "source": [
    "<b>save 함수로 array를 저장</b>할 수 있습니다  \n",
    "첫 번째 인수는 저장되는 이름이고, 두 번째 인수가 저장되는 array입니다"
   ]
  },
  {
   "cell_type": "code",
   "execution_count": null,
   "metadata": {
    "ExecuteTime": {
     "end_time": "2018-08-25T10:16:48.722431Z",
     "start_time": "2018-08-25T10:16:48.719269Z"
    }
   },
   "outputs": [],
   "source": [
    "np.save('test.npy', arr2)                                              "
   ]
  },
  {
   "cell_type": "markdown",
   "metadata": {},
   "source": [
    "읽어들이는 것은 <b>load 함수</b>로 가능합니다"
   ]
  },
  {
   "cell_type": "code",
   "execution_count": null,
   "metadata": {
    "ExecuteTime": {
     "end_time": "2018-08-25T10:16:48.728431Z",
     "start_time": "2018-08-25T10:16:48.724097Z"
    }
   },
   "outputs": [],
   "source": [
    "np.load('test.npy')                          "
   ]
  },
  {
   "cell_type": "markdown",
   "metadata": {},
   "source": [
    "## 배열 재구성\n",
    "* numpy.array().reshape(튜플(행,열))"
   ]
  },
  {
   "cell_type": "code",
   "execution_count": 2,
   "metadata": {},
   "outputs": [
    {
     "data": {
      "text/plain": [
       "array([1, 2, 3, 4, 5, 6, 7, 8, 9])"
      ]
     },
     "execution_count": 2,
     "metadata": {},
     "output_type": "execute_result"
    }
   ],
   "source": [
    "import numpy as np\n",
    "ar = np.array([1,2,3,4,5,6,7,8,9])\n",
    "ar"
   ]
  },
  {
   "cell_type": "code",
   "execution_count": 3,
   "metadata": {},
   "outputs": [
    {
     "data": {
      "text/plain": [
       "array([[1, 2, 3],\n",
       "       [4, 5, 6],\n",
       "       [7, 8, 9]])"
      ]
     },
     "execution_count": 3,
     "metadata": {},
     "output_type": "execute_result"
    }
   ],
   "source": [
    "arr2 = ar.reshape(3,3)          \n",
    "arr2"
   ]
  },
  {
   "cell_type": "code",
   "execution_count": 4,
   "metadata": {},
   "outputs": [
    {
     "data": {
      "text/plain": [
       "array([[1],\n",
       "       [2],\n",
       "       [3],\n",
       "       [4],\n",
       "       [5],\n",
       "       [6],\n",
       "       [7],\n",
       "       [8],\n",
       "       [9]])"
      ]
     },
     "execution_count": 4,
     "metadata": {},
     "output_type": "execute_result"
    }
   ],
   "source": [
    "arr3 = ar.reshape(9,1)        \n",
    "arr3"
   ]
  },
  {
   "cell_type": "markdown",
   "metadata": {},
   "source": [
    "## 초기값 지정\n",
    "*  numpy.zeros(튜(행,열))  "
   ]
  },
  {
   "cell_type": "code",
   "execution_count": 5,
   "metadata": {},
   "outputs": [
    {
     "data": {
      "text/plain": [
       "array([[0., 0., 0.],\n",
       "       [0., 0., 0.]])"
      ]
     },
     "execution_count": 5,
     "metadata": {},
     "output_type": "execute_result"
    }
   ],
   "source": [
    "ar4 = np.zeros((2,3))           \n",
    "ar4                              "
   ]
  },
  {
   "cell_type": "code",
   "execution_count": 6,
   "metadata": {},
   "outputs": [
    {
     "data": {
      "text/plain": [
       "array([[1., 1., 1.],\n",
       "       [1., 1., 1.]])"
      ]
     },
     "execution_count": 6,
     "metadata": {},
     "output_type": "execute_result"
    }
   ],
   "source": [
    "ar4 = np.ones((2,3)) \n",
    "ar4                                "
   ]
  },
  {
   "cell_type": "markdown",
   "metadata": {},
   "source": [
    "## numpy 슬라이싱"
   ]
  },
  {
   "cell_type": "code",
   "execution_count": null,
   "metadata": {},
   "outputs": [],
   "source": [
    "print('ar2 배열\\n',arr2)\n",
    "ar5 = arr2[1:2,1:2]\n",
    "print('ar5 배열\\n',ar5)                          \n",
    "ar6 = arr2[1,:]\n",
    "print('ar6 배열\\n',ar6) "
   ]
  },
  {
   "cell_type": "markdown",
   "metadata": {},
   "source": [
    "## numpy 행렬곱\n",
    "\n",
    "* numpy.dot()"
   ]
  },
  {
   "cell_type": "code",
   "execution_count": null,
   "metadata": {},
   "outputs": [],
   "source": [
    "print(arr2)\n",
    "ar7 = arr2[0:2,0:2]\n",
    "print('ar7\\n',ar7)\n",
    "ar8 = arr2[1:3,1:3]\n",
    "print('ar8\\n',ar8)\n",
    "ar9 = np.dot(ar7,ar8)\n",
    "print('ar7 dot ar8\\n',ar9)        "
   ]
  },
  {
   "cell_type": "code",
   "execution_count": null,
   "metadata": {},
   "outputs": [],
   "source": []
  },
  {
   "cell_type": "markdown",
   "metadata": {},
   "source": [
    "<span style=\"color:blue;font-size:20px;font-weight:bold;\">pandas</span>\n",
    "\n",
    "<span style=\"color:blue;font-size:16px;font-weight:bold;\">\n",
    "* pandas 임포트: import pandas as pd<br>\n",
    "* pandas 1차원 자료구조: Series <br>\n",
    "* pandas 2차원 자료구조: DataFrame <br>\n",
    "* pandas 3차원 자료구조: Panel <br>    \n",
    "* pandas 버전: pd.__version__<br>\n",
    "</span>  \n"
   ]
  },
  {
   "cell_type": "markdown",
   "metadata": {},
   "source": [
    "## 1차원 자료구조 생성"
   ]
  },
  {
   "cell_type": "code",
   "execution_count": null,
   "metadata": {},
   "outputs": [],
   "source": [
    "import pandas as pd\n",
    "data1 = [10,20,30,40,50]\n",
    "data2 = ['1반','2반','3반','4반','5반']\n",
    "sr1 = pd.Series(data1)\n",
    "print('sr1\\n',sr1)\n",
    "sr2 = pd.Series(data2)\n",
    "print('sr2\\n',sr2)\n",
    "sr3 = pd.Series([101,102,103,104,105])\n",
    "print('sr3\\n',sr3)\n",
    "sr4 = pd.Series(['월','화','수','목','금'])      \n",
    "print('sr4\\n',sr4) "
   ]
  },
  {
   "cell_type": "markdown",
   "metadata": {},
   "source": [
    "## 인덱스를 지정하여 Series생성"
   ]
  },
  {
   "cell_type": "code",
   "execution_count": null,
   "metadata": {},
   "outputs": [],
   "source": [
    "sr5 = pd.Series(data1,index=[1000,1001,1002,1003,1004])        \n",
    "print('sr5\\n',sr5)\n",
    "sr6 = pd.Series(data1,index=data2)\n",
    "print('sr6\\n',sr6)"
   ]
  },
  {
   "cell_type": "markdown",
   "metadata": {},
   "source": [
    "## Series 인덱싱, 슬라이싱"
   ]
  },
  {
   "cell_type": "code",
   "execution_count": null,
   "metadata": {},
   "outputs": [],
   "source": [
    "# 인덱싱\n",
    "print('sr6.iloc[2]\\n',sr6.iloc[2])\n",
    "print('sr6[\"3반\"]\\n',sr6['3반'])         \n",
    "print('sr6.iloc[-1]\\n',sr6.iloc[-1])              \n",
    "\n",
    "# 슬라이싱\n",
    "print('sr6.iloc[3:5]\\n',sr6.iloc[3:5])"
   ]
  },
  {
   "cell_type": "markdown",
   "metadata": {},
   "source": [
    "## Series 인덱스 및 값 구하기"
   ]
  },
  {
   "cell_type": "code",
   "execution_count": null,
   "metadata": {},
   "outputs": [],
   "source": [
    "# 인덱스 구하기                                                  \n",
    "sr6.index"
   ]
  },
  {
   "cell_type": "code",
   "execution_count": null,
   "metadata": {},
   "outputs": [],
   "source": [
    "# 값 구하기                                                      \n",
    "sr6.values"
   ]
  },
  {
   "cell_type": "markdown",
   "metadata": {},
   "source": [
    "## Series 원소의 크기 및 값 Type이 같은 경우 연산 가능"
   ]
  },
  {
   "cell_type": "code",
   "execution_count": null,
   "metadata": {},
   "outputs": [],
   "source": [
    "# 동일한 숫자 형태       \n",
    "sr1 + sr3"
   ]
  },
  {
   "cell_type": "code",
   "execution_count": null,
   "metadata": {},
   "outputs": [],
   "source": [
    "# 동일한 문자열 형태      \n",
    "sr2 + sr4"
   ]
  },
  {
   "cell_type": "markdown",
   "metadata": {},
   "source": [
    "## DataFrame 자료형"
   ]
  },
  {
   "cell_type": "markdown",
   "metadata": {},
   "source": [
    "pandas는 pd라는 이름으로 임포트하는 것이 일반적입니다"
   ]
  },
  {
   "cell_type": "code",
   "execution_count": null,
   "metadata": {
    "ExecuteTime": {
     "end_time": "2018-08-25T12:13:22.016301Z",
     "start_time": "2018-08-25T12:13:21.840802Z"
    }
   },
   "outputs": [],
   "source": [
    "import pandas as pd"
   ]
  },
  {
   "cell_type": "code",
   "execution_count": null,
   "metadata": {},
   "outputs": [],
   "source": [
    "# DataFrame 생성\n",
    "테스트 = pd.DataFrame({'온도':[18,19,20,21,22,22.3,25]})      \n",
    "테스트"
   ]
  },
  {
   "cell_type": "code",
   "execution_count": null,
   "metadata": {},
   "outputs": [],
   "source": [
    "data = {\n",
    "    'year' : [2019,2020,2021,2022,2023,2024],                                \n",
    "    'sales' : [ 342,333,222,564,444,567]\n",
    "}\n",
    "df1 = pd.DataFrame(data)\n",
    "df1"
   ]
  },
  {
   "cell_type": "code",
   "execution_count": null,
   "metadata": {},
   "outputs": [],
   "source": [
    "df2 = pd.DataFrame([[67,85,99],[78,90,95]],index=['중간고사','기말고사'], columns=['1반','2반','3반'])     \n",
    "df2"
   ]
  },
  {
   "cell_type": "code",
   "execution_count": null,
   "metadata": {},
   "outputs": [],
   "source": [
    "data3 = [['20201101','Yoo','90','95'], ['20201102','kim','93','87'],['20201103','lee','87','98']]         \n",
    "df3 = pd.DataFrame(data3)\n",
    "df3"
   ]
  },
  {
   "cell_type": "code",
   "execution_count": null,
   "metadata": {},
   "outputs": [],
   "source": [
    "df3.columns = ['학번','이름','중간고사','기말고사']          \n",
    "df3"
   ]
  },
  {
   "cell_type": "code",
   "execution_count": null,
   "metadata": {},
   "outputs": [],
   "source": [
    "df3.head(2)                                          "
   ]
  },
  {
   "cell_type": "code",
   "execution_count": null,
   "metadata": {},
   "outputs": [],
   "source": [
    "df3.tail(2)                                   "
   ]
  },
  {
   "cell_type": "code",
   "execution_count": null,
   "metadata": {},
   "outputs": [],
   "source": [
    "df3['이름']                      "
   ]
  },
  {
   "cell_type": "code",
   "execution_count": null,
   "metadata": {},
   "outputs": [],
   "source": [
    "df3.to_csv('학생정보1.csv',header=True)     "
   ]
  },
  {
   "cell_type": "code",
   "execution_count": null,
   "metadata": {},
   "outputs": [],
   "source": [
    "df4 = pd.read_csv('학생정보1.csv',encoding='utf-8',index_col=0,engine='python')   \n",
    "df4"
   ]
  },
  {
   "cell_type": "code",
   "execution_count": null,
   "metadata": {},
   "outputs": [],
   "source": [
    "usecols=['학번','이름','중간고사','기말고사']\n",
    "df4 = pd.read_csv('학생정보1.csv',encoding='utf-8',index_col=0,usecols=usecols,skiprows=[1], engine='python')   \n",
    "df4"
   ]
  },
  {
   "cell_type": "code",
   "execution_count": null,
   "metadata": {},
   "outputs": [],
   "source": [
    "df4.loc[20201103,['이름','기말고사']]        "
   ]
  },
  {
   "cell_type": "code",
   "execution_count": null,
   "metadata": {},
   "outputs": [],
   "source": [
    "df4.iloc[1]                                "
   ]
  },
  {
   "cell_type": "code",
   "execution_count": 76,
   "metadata": {},
   "outputs": [
    {
     "data": {
      "text/plain": [
       "Index([20201102, 20201103], dtype='int64', name='학번')"
      ]
     },
     "execution_count": 76,
     "metadata": {},
     "output_type": "execute_result"
    }
   ],
   "source": [
    "df4.index                                                                      "
   ]
  },
  {
   "cell_type": "code",
   "execution_count": 75,
   "metadata": {},
   "outputs": [
    {
     "data": {
      "text/plain": [
       "Index(['이름', '중간고사', '기말고사'], dtype='object')"
      ]
     },
     "execution_count": 75,
     "metadata": {},
     "output_type": "execute_result"
    }
   ],
   "source": [
    "df4.columns                                                "
   ]
  },
  {
   "cell_type": "code",
   "execution_count": 77,
   "metadata": {},
   "outputs": [
    {
     "data": {
      "text/plain": [
       "array([['kim', 93, 87],\n",
       "       ['lee', 87, 98]], dtype=object)"
      ]
     },
     "execution_count": 77,
     "metadata": {},
     "output_type": "execute_result"
    }
   ],
   "source": [
    "df4.values                                         "
   ]
  },
  {
   "cell_type": "code",
   "execution_count": 74,
   "metadata": {},
   "outputs": [
    {
     "data": {
      "text/html": [
       "<div>\n",
       "<style scoped>\n",
       "    .dataframe tbody tr th:only-of-type {\n",
       "        vertical-align: middle;\n",
       "    }\n",
       "\n",
       "    .dataframe tbody tr th {\n",
       "        vertical-align: top;\n",
       "    }\n",
       "\n",
       "    .dataframe thead th {\n",
       "        text-align: right;\n",
       "    }\n",
       "</style>\n",
       "<table border=\"1\" class=\"dataframe\">\n",
       "  <thead>\n",
       "    <tr style=\"text-align: right;\">\n",
       "      <th></th>\n",
       "      <th>중간고사</th>\n",
       "      <th>기말고사</th>\n",
       "    </tr>\n",
       "  </thead>\n",
       "  <tbody>\n",
       "    <tr>\n",
       "      <th>count</th>\n",
       "      <td>2.000000</td>\n",
       "      <td>2.000000</td>\n",
       "    </tr>\n",
       "    <tr>\n",
       "      <th>mean</th>\n",
       "      <td>90.000000</td>\n",
       "      <td>92.500000</td>\n",
       "    </tr>\n",
       "    <tr>\n",
       "      <th>std</th>\n",
       "      <td>4.242641</td>\n",
       "      <td>7.778175</td>\n",
       "    </tr>\n",
       "    <tr>\n",
       "      <th>min</th>\n",
       "      <td>87.000000</td>\n",
       "      <td>87.000000</td>\n",
       "    </tr>\n",
       "    <tr>\n",
       "      <th>25%</th>\n",
       "      <td>88.500000</td>\n",
       "      <td>89.750000</td>\n",
       "    </tr>\n",
       "    <tr>\n",
       "      <th>50%</th>\n",
       "      <td>90.000000</td>\n",
       "      <td>92.500000</td>\n",
       "    </tr>\n",
       "    <tr>\n",
       "      <th>75%</th>\n",
       "      <td>91.500000</td>\n",
       "      <td>95.250000</td>\n",
       "    </tr>\n",
       "    <tr>\n",
       "      <th>max</th>\n",
       "      <td>93.000000</td>\n",
       "      <td>98.000000</td>\n",
       "    </tr>\n",
       "  </tbody>\n",
       "</table>\n",
       "</div>"
      ],
      "text/plain": [
       "            중간고사       기말고사\n",
       "count   2.000000   2.000000\n",
       "mean   90.000000  92.500000\n",
       "std     4.242641   7.778175\n",
       "min    87.000000  87.000000\n",
       "25%    88.500000  89.750000\n",
       "50%    90.000000  92.500000\n",
       "75%    91.500000  95.250000\n",
       "max    93.000000  98.000000"
      ]
     },
     "execution_count": 74,
     "metadata": {},
     "output_type": "execute_result"
    }
   ],
   "source": [
    "df4.describe()"
   ]
  },
  {
   "cell_type": "markdown",
   "metadata": {},
   "source": [
    "이 책의 제1장에서 사용하는 데이터를 읽어들입시다  \n",
    "read_csv 함수를 사용하여 csv를 pandas의 DataFrame이라는 형식으로 읽어들일 수 있습니다  \n",
    "\n",
    "### 실습환경준비\n",
    "> DataFrame의 출력을 소수점 이하 3자리로 제한  \n",
    "> pd.set_option('precision',3)\n"
   ]
  },
  {
   "cell_type": "code",
   "execution_count": null,
   "metadata": {},
   "outputs": [],
   "source": [
    "df = pd.read_csv('sport_test.csv')\n",
    "df"
   ]
  },
  {
   "cell_type": "markdown",
   "metadata": {},
   "source": [
    "## 추출"
   ]
  },
  {
   "cell_type": "markdown",
   "metadata": {},
   "source": [
    "이번은 DataFrame이 10행으로 비교적 소규모이지만, 수백행・수천행의 DataFrame을 다루는 경우도 흔한 일은 아닙니다  \n",
    "DataFrame의 구조를 알기 위해서는 DataFrame의 <b><font color=blue>head 메서드</font></b>가 자주 사용됩니다  \n",
    "head 메서드는 DataFrame의 앞 부분의 행을 추출하는 메서드입니다  \n",
    "여기에서는 3행을 추출해봅시다"
   ]
  },
  {
   "cell_type": "code",
   "execution_count": null,
   "metadata": {},
   "outputs": [],
   "source": [
    "df.head(3)"
   ]
  },
  {
   "cell_type": "markdown",
   "metadata": {},
   "source": [
    "아무것도 지정하지 않으면 5행이 추출됩니다"
   ]
  },
  {
   "cell_type": "code",
   "execution_count": null,
   "metadata": {},
   "outputs": [],
   "source": [
    "df.head()"
   ]
  },
  {
   "cell_type": "markdown",
   "metadata": {},
   "source": [
    "마찬가지로 <b><font color=blue>tail 메서드</font></b>는 DataFrame의 뒷부분을 추출합니다"
   ]
  },
  {
   "cell_type": "code",
   "execution_count": null,
   "metadata": {},
   "outputs": [],
   "source": [
    "df.tail()"
   ]
  },
  {
   "cell_type": "markdown",
   "metadata": {},
   "source": [
    "<b><font color=blue>슬라이스로 추출</font></b>할 수도 있습니다"
   ]
  },
  {
   "cell_type": "code",
   "execution_count": null,
   "metadata": {},
   "outputs": [],
   "source": [
    "df[2:5]"
   ]
  },
  {
   "cell_type": "markdown",
   "metadata": {},
   "source": [
    "열은 <b><font color=blue>열 이름으로 추출</font></b>할 수 있습니다"
   ]
  },
  {
   "cell_type": "code",
   "execution_count": null,
   "metadata": {},
   "outputs": [],
   "source": [
    "df['악력']"
   ]
  },
  {
   "cell_type": "markdown",
   "metadata": {},
   "source": [
    "복수열을 동시에 지정할 수도 있습니다"
   ]
  },
  {
   "cell_type": "code",
   "execution_count": null,
   "metadata": {},
   "outputs": [],
   "source": [
    "df[['학년', '점수']]"
   ]
  },
  {
   "cell_type": "markdown",
   "metadata": {},
   "source": [
    "<b><font color=blue>행과 열을 동시에 지정하여 추출</font></b>하고 싶을 때에는 <b><font color=red>loc 메서드</font></b>가 편리합니다\n",
    "예를 들어 첫 번째 행의 학년은 다음과 같이 추출할 수 있습니다"
   ]
  },
  {
   "cell_type": "code",
   "execution_count": null,
   "metadata": {},
   "outputs": [],
   "source": [
    "df.loc[1, '학년']"
   ]
  },
  {
   "cell_type": "markdown",
   "metadata": {},
   "source": [
    "슬라이스에 의한 지정도 가능합니다"
   ]
  },
  {
   "cell_type": "code",
   "execution_count": null,
   "metadata": {},
   "outputs": [],
   "source": [
    "df.loc[1:3, '악력']"
   ]
  },
  {
   "cell_type": "markdown",
   "metadata": {},
   "source": [
    "조건에 일치하는 행을 추출하고 싶은 경우는 다음과 같이 작성합니다  \n",
    "여기에서는 악력이 30보다 작은 행을 추출합니다"
   ]
  },
  {
   "cell_type": "code",
   "execution_count": null,
   "metadata": {},
   "outputs": [],
   "source": [
    "df[df['악력'] < 30]"
   ]
  },
  {
   "cell_type": "markdown",
   "metadata": {},
   "source": [
    "## 데이터의 개요"
   ]
  },
  {
   "cell_type": "markdown",
   "metadata": {},
   "source": [
    "데이터의 크기는 shape로 알 수 있습니다"
   ]
  },
  {
   "cell_type": "code",
   "execution_count": null,
   "metadata": {},
   "outputs": [],
   "source": [
    "df.shape"
   ]
  },
  {
   "cell_type": "markdown",
   "metadata": {},
   "source": [
    "<b>열 이름 확인</b>은 <b><font color=red>columns</font></b>입니다"
   ]
  },
  {
   "cell_type": "code",
   "execution_count": null,
   "metadata": {},
   "outputs": [],
   "source": [
    "df.columns"
   ]
  },
  {
   "cell_type": "markdown",
   "metadata": {},
   "source": [
    "<b>인덱스 확인</b>은 <b><font color=red>index</font></b>입니다."
   ]
  },
  {
   "cell_type": "code",
   "execution_count": null,
   "metadata": {},
   "outputs": [],
   "source": [
    "df.index"
   ]
  },
  {
   "cell_type": "markdown",
   "metadata": {},
   "source": [
    "<b><font color=red>describe()함수</font>는 수치형 변수들만을 기준으로 카운트, 평균, 표준편차, 최소/최댓값, 4분위수를 기준으로 25%, 50%, 75% 해당하는 값을 테이블로 출력</b>"
   ]
  },
  {
   "cell_type": "code",
   "execution_count": null,
   "metadata": {},
   "outputs": [],
   "source": [
    "df.describe()"
   ]
  },
  {
   "cell_type": "markdown",
   "metadata": {},
   "source": [
    "## 데이터의 추가"
   ]
  },
  {
   "cell_type": "markdown",
   "metadata": {},
   "source": [
    "df에 데이터를 추가해봅시다  \n",
    "우선은 열의 추가입니다"
   ]
  },
  {
   "cell_type": "code",
   "execution_count": null,
   "metadata": {},
   "outputs": [],
   "source": [
    "df['팔 굽혀 펴기'] = [15, 12, 10, 4, 20,\n",
    "                  24, 9, 11, 11, 17]\n",
    "df"
   ]
  },
  {
   "cell_type": "markdown",
   "metadata": {},
   "source": [
    "다음은 행을 추가해보겠습니다"
   ]
  },
  {
   "cell_type": "code",
   "execution_count": null,
   "metadata": {},
   "outputs": [],
   "source": [
    "new_row = pd.Series([11, 3, 42.4, 30, 15, 11, 12], index=df.columns, name=10)\n",
    "new_row"
   ]
  },
  {
   "cell_type": "code",
   "execution_count": null,
   "metadata": {},
   "outputs": [],
   "source": [
    "df.append(new_row)"
   ]
  },
  {
   "cell_type": "code",
   "execution_count": null,
   "metadata": {},
   "outputs": [],
   "source": []
  }
 ],
 "metadata": {
  "kernelspec": {
   "display_name": "Python 3 (ipykernel)",
   "language": "python",
   "name": "python3"
  },
  "language_info": {
   "codemirror_mode": {
    "name": "ipython",
    "version": 3
   },
   "file_extension": ".py",
   "mimetype": "text/x-python",
   "name": "python",
   "nbconvert_exporter": "python",
   "pygments_lexer": "ipython3",
   "version": "3.9.2rc1"
  },
  "toc": {
   "nav_menu": {},
   "number_sections": true,
   "sideBar": true,
   "skip_h1_title": false,
   "toc_cell": false,
   "toc_position": {},
   "toc_section_display": "block",
   "toc_window_display": false
  },
  "varInspector": {
   "cols": {
    "lenName": 16,
    "lenType": 16,
    "lenVar": 40
   },
   "kernels_config": {
    "python": {
     "delete_cmd_postfix": "",
     "delete_cmd_prefix": "del ",
     "library": "var_list.py",
     "varRefreshCmd": "print(var_dic_list())"
    },
    "r": {
     "delete_cmd_postfix": ") ",
     "delete_cmd_prefix": "rm(",
     "library": "var_list.r",
     "varRefreshCmd": "cat(var_dic_list()) "
    }
   },
   "types_to_exclude": [
    "module",
    "function",
    "builtin_function_or_method",
    "instance",
    "_Feature"
   ],
   "window_display": false
  }
 },
 "nbformat": 4,
 "nbformat_minor": 4
}
